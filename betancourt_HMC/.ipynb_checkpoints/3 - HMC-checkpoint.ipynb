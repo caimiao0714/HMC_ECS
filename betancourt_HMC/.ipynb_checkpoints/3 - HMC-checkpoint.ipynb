{
 "cells": [
  {
   "cell_type": "code",
   "execution_count": 2,
   "metadata": {},
   "outputs": [],
   "source": [
    "\n",
    "import matplotlib.pyplot as plot\n",
    "import scipy.stats as stats\n",
    "import numpy\n",
    "import math\n",
    "\n",
    "light = \"#DCBCBC\"\n",
    "light_highlight = \"#C79999\"\n",
    "mid = \"#B97C7C\"\n",
    "mid_highlight = \"#A25050\"\n",
    "dark = \"#8F2727\"\n",
    "dark_highlight = \"#7C0000\"\n",
    "green = \"#00FF00\""
   ]
  },
  {
   "cell_type": "markdown",
   "metadata": {},
   "source": [
    "To facilitate the computation of Markov chain Monte Carlo estimators, let's define a _Welford accumulator_ that computes empirical summaries of a sample in a single pass"
   ]
  },
  {
   "cell_type": "code",
   "execution_count": 8,
   "metadata": {},
   "outputs": [],
   "source": [
    "def welford_summary(x, L = 100):\n",
    "  summary = [0] * (L + 1)\n",
    "  for n in range(len(x)):\n",
    "    delta = x[n] - summary[0]\n",
    "    summary[0] += delta / (n + 1)\n",
    "    for l in range(L):\n",
    "      if n > l:\n",
    "        summary[l + 1] += delta * (x[n - l] - summary[0])\n",
    "\n",
    "  norm = 1.0 / (len(x) - 1)\n",
    "  for l in range(L): summary[l + 1] *= norm\n",
    "  return summary\n",
    "\n",
    "# We can then use the Welford accumulator output to compute the\n",
    "# Markov chain Monte Carlo estimators and their properties\n",
    "def compute_mcmc_stats(x, L = 20):\n",
    "  summary = welford_summary(x, L)\n",
    "  \n",
    "  mean = summary[0]\n",
    "  var = summary[1]\n",
    "  acov = summary[1:(L + 1)]\n",
    "  \n",
    "  # Compute the effective sample size\n",
    "  rho_hat_s = [0] * L\n",
    "  rho_hat_s[1] = acov[1] / var\n",
    "  \n",
    "  # First we transform our autocovariances into Geyer's initial positive sequence\n",
    "  max_s = 1\n",
    "  for s in [ 2 * i + 1 for i in range((L - 1) // 2) ]:\n",
    "    rho_hat_even = acov[s + 1] / var\n",
    "    rho_hat_odd = acov[s + 2] / var;\n",
    "    \n",
    "    max_s = s + 2  \n",
    "    \n",
    "    if rho_hat_even + rho_hat_odd > 0:\n",
    "      rho_hat_s[s + 1] = rho_hat_even\n",
    "      rho_hat_s[s + 2] = rho_hat_odd\n",
    "    else:   \n",
    "      break\n",
    "  \n",
    "  # Then we transform this output into Geyer's initial monotone sequence\n",
    "  for s in [ 2 * i + 3 for i in range((max_s - 2)// 2) ]:\n",
    "    if rho_hat_s[s + 1] + rho_hat_s[s + 2] > rho_hat_s[s - 1] + rho_hat_s[s]:\n",
    "      rho_hat_s[s + 1] = 0.5 * (rho_hat_s[s - 1] + rho_hat_s[s])\n",
    "      rho_hat_s[s + 2] = rho_hat_s[s + 1]\n",
    "  \n",
    "  ess = len(x) / (1.0 + 2 * sum(rho_hat_s))\n",
    "  \n",
    "  return [mean, math.sqrt(var / ess), math.sqrt(var), ess]"
   ]
  },
  {
   "cell_type": "markdown",
   "metadata": {},
   "source": [
    "To generate our samples we'll use numpy's pseudo random number generator which needs to be seeded to achieve reproducible results"
   ]
  },
  {
   "cell_type": "code",
   "execution_count": 9,
   "metadata": {},
   "outputs": [],
   "source": [
    "numpy.random.seed(seed=8675309)\n",
    "\n",
    "# To ensure accurate results let's generate pretty large samples\n",
    "N = 10000"
   ]
  },
  {
   "cell_type": "markdown",
   "metadata": {},
   "source": [
    "One Hundred-Dimensional Gaussian Target"
   ]
  },
  {
   "cell_type": "code",
   "execution_count": 10,
   "metadata": {},
   "outputs": [],
   "source": [
    "D = 100\n",
    "\n",
    "def target_lpdf(x):\n",
    "  return - 0.5 * sum([ x_n**2 for x_n in x ]) \\\n",
    "         - 0.5 * len(x) * math.log(6.283185307179586)\n",
    "\n",
    "def grad_target_lpdf(x):\n",
    "  return - x"
   ]
  },
  {
   "cell_type": "markdown",
   "metadata": {},
   "source": [
    "# Random Walk Metropolis"
   ]
  },
  {
   "cell_type": "code",
   "execution_count": 11,
   "metadata": {},
   "outputs": [],
   "source": [
    "rwm_accept_prob_mean = 0\n",
    "rwm_accept_prob_se = 0\n",
    "rwm_ave_eff_sample_size = 0\n",
    "\n",
    "# Optimal proposal tuning\n",
    "opt_sigma = 2.5 / math.sqrt(D)\n",
    "\n",
    "# A place to store our Markov chain\n",
    "# D columns for the parameters and one extra column\n",
    "# for the Metropolis acceptance probability\n",
    "mcmc_samples = [[0] * (D + 1) for _ in range(N)]\n",
    "\n",
    "# Seeding the initial state with an exact sample\n",
    "# from the target distribution ensures that we\n",
    "# start in the typical set and avoid having to\n",
    "# worry about warmup.\n",
    "for d in range(D):\n",
    "  mcmc_samples[0][d] = stats.norm.rvs(0, 3)\n",
    "mcmc_samples[0][D] = 1\n",
    "  \n",
    "for n in range(1, N):\n",
    "  x0 = [ mcmc_samples[n - 1][d] for d in range(D) ] \n",
    "  xp = [ stats.norm.rvs(x0[d], opt_sigma) for d in range(D) ]\n",
    "\n",
    "  # Compute acceptance probability\n",
    "  accept_prob = 1\n",
    "  if target_lpdf(xp) < target_lpdf(x0):\n",
    "    accept_prob = math.exp(target_lpdf(xp) - target_lpdf(x0))\n",
    "  mcmc_samples[n][D] = accept_prob\n",
    "\n",
    "  # Apply Metropolis correction\n",
    "  u = stats.uniform.rvs(0, 1)\n",
    "  if accept_prob > u:\n",
    "    mcmc_samples[n][0:D] = xp\n",
    "  else:\n",
    "    mcmc_samples[n][0:D] = x0\n",
    "\n",
    "# Compute MCMC estimator statistics\n",
    "mcmc_stats = compute_mcmc_stats([ s[D] for s in mcmc_samples])\n",
    "\n",
    "rwm_accept_prob_mean = mcmc_stats[0]\n",
    "rwm_accept_prob_se = mcmc_stats[1]\n",
    "\n",
    "# Estimate effective sample size\n",
    "eff_sample_sizes = [ compute_mcmc_stats([ s[d] for s in mcmc_samples])[3] \\\n",
    "                   for d in range(D) ]\n",
    "rwm_ave_eff_sample_size = sum(eff_sample_sizes) / D\n"
   ]
  },
  {
   "cell_type": "markdown",
   "metadata": {},
   "source": [
    "# Hamiltonian Basics"
   ]
  },
  {
   "cell_type": "code",
   "execution_count": 12,
   "metadata": {},
   "outputs": [
    {
     "data": {
      "image/png": "[encoded data removed]",
      "text/plain": [
       "<Figure size 432x288 with 1 Axes>"
      ]
     },
     "metadata": {
      "needs_background": "light"
     },
     "output_type": "display_data"
    },
    {
     "data": {
      "image/png": "[encoded data removed]",
      "text/plain": [
       "<Figure size 432x288 with 1 Axes>"
      ]
     },
     "metadata": {
      "needs_background": "light"
     },
     "output_type": "display_data"
    }
   ],
   "source": [
    "def leapfrog(q, p, epsilon):\n",
    "  p += 0.5 * epsilon * grad_target_lpdf(q)\n",
    "  q += epsilon * p\n",
    "  p += 0.5 * epsilon * grad_target_lpdf(q)\n",
    "  return [q, p]\n",
    "  \n",
    "def hamiltonian(q, p):\n",
    "  return 0.5 * numpy.dot(p, p) - target_lpdf(q)\n",
    "\n",
    "# Tuning\n",
    "T = 1.8 * math.pi\n",
    "epsilon = 0.01\n",
    "L = int(math.floor(T / epsilon))\n",
    "\n",
    "# Visualize a single trajectory\n",
    "q = numpy.asarray([1.0 for _ in range(D)])\n",
    "p = numpy.asarray([stats.norm.rvs(0, 1) for _ in range(D) ])\n",
    "\n",
    "Hs = [0] * (L + 1)\n",
    "q1s = [0] * (L + 1)\n",
    "p1s = [0] * (L + 1)\n",
    "\n",
    "Hs[0] = hamiltonian(q, p)\n",
    "q1s[0] = q[0]\n",
    "p1s[0] = p[0]\n",
    "\n",
    "for l in range(L):\n",
    "  q, p = leapfrog(q, p, epsilon)\n",
    "  Hs[l + 1] = hamiltonian(q, p)\n",
    "  q1s[l + 1] = q[0]\n",
    "  p1s[l + 1] = p[0]\n",
    "  \n",
    "plot.plot(range(L + 1), Hs, color=dark_highlight)\n",
    "plot.axhline(Hs[0], color=light_highlight)\n",
    "plot.gca().set_xlabel(\"Iteration\")\n",
    "plot.gca().set_ylabel(\"Hamiltonian\")\n",
    "plot.show()\n",
    "\n",
    "plot.plot(q1s, p1s, color=dark_highlight)\n",
    "plot.gca().set_xlabel(\"q1\")\n",
    "plot.gca().set_ylabel(\"p1\")\n",
    "plot.show()\n"
   ]
  },
  {
   "cell_type": "markdown",
   "metadata": {},
   "source": [
    "# Hybrid Monte Carlo\n",
    "\n",
    "Hamiltonian Monte Carlo with static integration time considering only the final state in each numerical trajectory two which a Metropolis acceptance procedure is applied"
   ]
  },
  {
   "cell_type": "code",
   "execution_count": 13,
   "metadata": {},
   "outputs": [
    {
     "data": {
      "text/plain": [
       "0"
      ]
     },
     "execution_count": 13,
     "metadata": {},
     "output_type": "execute_result"
    }
   ],
   "source": [
    "# Tuning\n",
    "T = 1.8 * math.pi\n",
    "epsilon = 0.6\n",
    "L = int(math.floor(T / epsilon))\n",
    "\n",
    "hybrid_accept_prob_mean = 0\n",
    "hybrid_accept_prob_se = 0\n",
    "hybrid_ave_eff_sample_size = 0\n",
    "\n",
    "# A place to store our Markov chain\n",
    "# D columns for the parameters and two extra columns,\n",
    "# one for the Metropolis acceptance probability\n",
    "# and one for divergent trajectory indicator\n",
    "mcmc_samples = [[0] * (D + 2) for _ in range(N)]\n",
    "\n",
    "# Seeding the initial state with an exact sample\n",
    "# from the target distribution ensures that we\n",
    "# start in the typical set and avoid having to\n",
    "# worry about warmup.\n",
    "for d in range(D):\n",
    "  mcmc_samples[0][d] = stats.norm.rvs(0, 3)\n",
    "mcmc_samples[0][D] = 1\n",
    "mcmc_samples[0][D + 1] = 0\n",
    "  \n",
    "for n in range(1, N):\n",
    "  q0 = [ mcmc_samples[n - 1][d] for d in range(D) ]\n",
    "  \n",
    "  q = numpy.asarray(x0)\n",
    "  p = numpy.asarray([stats.norm.rvs(0, 1) for _ in range(D) ])\n",
    "\n",
    "  H0 = hamiltonian(q, p)\n",
    "\n",
    "  divergent = 0\n",
    "  for l in range(L):\n",
    "    q, p = leapfrog(q, p, epsilon)\n",
    "    H = hamiltonian(q, p)\n",
    "    if (H - H0 > 1000):\n",
    "      divergent = 1\n",
    "      break\n",
    "    \n",
    "  H = hamiltonian(q, -1 * p)\n",
    "  \n",
    "  mcmc_samples[n][D + 1] = divergent\n",
    "\n",
    "  # Compute acceptance probability\n",
    "  accept_prob = 1\n",
    "  if H > H0:\n",
    "    accept_prob = math.exp(H0 - H)\n",
    "  mcmc_samples[n][D] = accept_prob\n",
    "\n",
    "  # Apply Metropolis correction\n",
    "  u = stats.uniform.rvs(0, 1)\n",
    "  if accept_prob > u:\n",
    "    mcmc_samples[n][0:D] = q\n",
    "  else:\n",
    "    mcmc_samples[n][0:D] = q0\n",
    "\n",
    "# Compute MCMC estimator statistics\n",
    "mcmc_stats = compute_mcmc_stats([ s[D] for s in mcmc_samples])\n",
    "\n",
    "hybrid_accept_prob_mean = mcmc_stats[0]\n",
    "hybrid_accept_prob_se = mcmc_stats[1]\n",
    "\n",
    "# Estimate effective sample size\n",
    "eff_sample_sizes = [ compute_mcmc_stats([ s[d] for s in mcmc_samples])[3] \\\n",
    "                   for d in range(D) ]\n",
    "hybrid_ave_eff_sample_size = sum(eff_sample_sizes) / D\n",
    "\n",
    "# Check divergences\n",
    "sum([ s[D + 1] for s in mcmc_samples])"
   ]
  },
  {
   "cell_type": "markdown",
   "metadata": {},
   "source": [
    "# Static Multinomial Hamiltonian Monte Carlo\n",
    "Hamiltonian Monte Carlo with static integration time but multinomially sampling from all points within a numerical trajectory"
   ]
  },
  {
   "cell_type": "code",
   "execution_count": 14,
   "metadata": {},
   "outputs": [
    {
     "data": {
      "text/plain": [
       "0"
      ]
     },
     "execution_count": 14,
     "metadata": {},
     "output_type": "execute_result"
    }
   ],
   "source": [
    "def log_sum_exp(x, y):\n",
    "  if x > y:\n",
    "    return x + math.log(1 + math.exp(y - x))\n",
    "  else:\n",
    "    return y + math.log(1 + math.exp(x - y))\n",
    "\n",
    "smhmc_accept_prob_mean = 0\n",
    "smhmc_accept_prob_se = 0\n",
    "smhmc_ave_eff_sample_size = 0\n",
    "\n",
    "# A place to store our Markov chain\n",
    "# D columns for the parameters and one extra column\n",
    "# for the Metropolis acceptance probability\n",
    "mcmc_samples = [[0] * (D + 2) for _ in range(N)]\n",
    "\n",
    "# Seeding the initial state with an exact sample\n",
    "# from the target distribution ensures that we\n",
    "# start in the typical set and avoid having to\n",
    "# worry about warmup.\n",
    "for d in range(D):\n",
    "  mcmc_samples[0][d] = stats.norm.rvs(0, 3)\n",
    "mcmc_samples[0][D] = 1\n",
    "mcmc_samples[0][D + 1] = 0\n",
    "  \n",
    "for n in range(1, N):\n",
    "  q0 = [ mcmc_samples[n - 1][d] for d in range(D) ]\n",
    "  q_propose = q0\n",
    "  \n",
    "  q = numpy.asarray(q0)\n",
    "  p = numpy.asarray([stats.norm.rvs(0, 1) for _ in range(D) ])\n",
    "\n",
    "  H0 = hamiltonian(q, p)\n",
    "\n",
    "  divergent = 0\n",
    "  log_sum_weight = 0\n",
    "  sum_metro_prob = 1\n",
    "  \n",
    "  Lp = stats.randint.rvs(0, L - 1)\n",
    "  \n",
    "  # Backwards evolution\n",
    "  for l in range(Lp):\n",
    "    q, p = leapfrog(q, p, -epsilon)\n",
    "    H = hamiltonian(q, p)\n",
    "    \n",
    "    if (H - H0 > 1000):\n",
    "      divergent = 1\n",
    "      break\n",
    "    \n",
    "    log_weight = H0 - H\n",
    "    log_sum_weight = log_sum_exp(log_weight, log_sum_weight)\n",
    "    sum_metro_prob += min(1, math.exp(H0 - H))\n",
    "    \n",
    "    u = stats.uniform.rvs(0, 1)\n",
    "    if math.exp(log_weight - log_sum_weight):\n",
    "      q_propose = q\n",
    "    \n",
    "  # Forwards evolution\n",
    "  q = numpy.asarray(q0)\n",
    "  \n",
    "  for l in range(L - 1 - Lp):\n",
    "    q, p = leapfrog(q, p, epsilon)\n",
    "    H = hamiltonian(q, p)\n",
    "  \n",
    "    if (H - H0 > 1000):\n",
    "      divergent = 1\n",
    "      break\n",
    "    \n",
    "    log_weight = H0 - H\n",
    "    log_sum_weight = log_sum_exp(log_weight, log_sum_weight)\n",
    "    sum_metro_prob += min(1, math.exp(H0 - H))\n",
    "    \n",
    "    u = stats.uniform.rvs(0, 1)\n",
    "    if math.exp(log_weight - log_sum_weight):\n",
    "      q_propose = q\n",
    "  \n",
    "  mcmc_samples[n][0:D] = q_propose\n",
    "  \n",
    "  # Acceptance probability proxy\n",
    "  accept_prob = sum_metro_prob / L\n",
    "  mcmc_samples[n][D] = accept_prob\n",
    "  \n",
    "  mcmc_samples[n][D + 1] = divergent\n",
    "\n",
    "# Compute MCMC estimator statistics\n",
    "mcmc_stats = compute_mcmc_stats([ s[D] for s in mcmc_samples])\n",
    "\n",
    "smhmc_accept_prob_mean = mcmc_stats[0]\n",
    "smhmc_accept_prob_se = mcmc_stats[1]\n",
    "\n",
    "# Estimate effective sample size\n",
    "eff_sample_sizes = [ compute_mcmc_stats([ s[d] for s in mcmc_samples])[3] \\\n",
    "                   for d in range(D) ]\n",
    "smhmc_ave_eff_sample_size = sum(eff_sample_sizes) / D\n",
    "\n",
    "# Check divergences\n",
    "sum([ s[D + 1] for s in mcmc_samples])"
   ]
  },
  {
   "cell_type": "markdown",
   "metadata": {},
   "source": [
    "# Comparison"
   ]
  },
  {
   "cell_type": "code",
   "execution_count": 15,
   "metadata": {},
   "outputs": [
    {
     "name": "stdout",
     "output_type": "stream",
     "text": [
      "Random Walk Metropolis\n",
      "  Metropolis Accept Probability = 0.21876429946907805 +/- 0.003362724315144871\n",
      "  Average Effective Sample Size = 274.1377025107051\n",
      "  Average Effective Sample Size Per Comp = 274.1377025107051\n",
      "\n",
      "Hybrid Monte Carlo\n",
      "  Metropolis Accept Probability = 0.5020859807097536 +/- 0.002352870600547754\n",
      "  Average Effective Sample Size = 3328.5620845935896\n",
      "  Average Effective Sample Size Per Comp = 369.84023162150993\n",
      "\n",
      "Static Multinomial Hamiltonian Monte Carlo\n",
      "  Proxy Metropolis Accept Probability = 0.6844684490061823 +/- 0.0020960658539367384\n",
      "  Average Effective Sample Size = 24550.04682330573\n",
      "  Average Effective Sample Size Per Comp = 2727.782980367303\n"
     ]
    }
   ],
   "source": [
    "print(\"Random Walk Metropolis\")\n",
    "print(\"  Metropolis Accept Probability = \" \n",
    "      + str(rwm_accept_prob_mean) + \" +/- \" + str(rwm_accept_prob_se))\n",
    "print(\"  Average Effective Sample Size = \" \n",
    "      + str(rwm_ave_eff_sample_size))\n",
    "print(\"  Average Effective Sample Size Per Comp = \" \n",
    "      + str(rwm_ave_eff_sample_size))\n",
    "print(\"\")\n",
    "print(\"Hybrid Monte Carlo\")\n",
    "print(\"  Metropolis Accept Probability = \" \n",
    "      + str(hybrid_accept_prob_mean) + \" +/- \" + str(hybrid_accept_prob_se))\n",
    "print(\"  Average Effective Sample Size = \" \n",
    "      + str(hybrid_ave_eff_sample_size))\n",
    "print(\"  Average Effective Sample Size Per Comp = \" \n",
    "      + str(hybrid_ave_eff_sample_size / L))\n",
    "print(\"\")\n",
    "print(\"Static Multinomial Hamiltonian Monte Carlo\")\n",
    "print(\"  Proxy Metropolis Accept Probability = \" \n",
    "      + str(smhmc_accept_prob_mean) + \" +/- \" + str(smhmc_accept_prob_se))\n",
    "print(\"  Average Effective Sample Size = \" \n",
    "      + str(smhmc_ave_eff_sample_size))\n",
    "print(\"  Average Effective Sample Size Per Comp = \" \n",
    "      + str(smhmc_ave_eff_sample_size / L))\n",
    "\n"
   ]
  },
  {
   "cell_type": "markdown",
   "metadata": {},
   "source": [
    "Why does Hybrid Monte Carlo perform so poorly here?  Bad tuning! The integration time is too long and the numerical trajectories end up back near the initial state, wasting the Hamiltonian flow."
   ]
  },
  {
   "cell_type": "code",
   "execution_count": 16,
   "metadata": {},
   "outputs": [
    {
     "data": {
      "image/png": "[encoded data removed]",
      "text/plain": [
       "<Figure size 432x288 with 1 Axes>"
      ]
     },
     "metadata": {
      "needs_background": "light"
     },
     "output_type": "display_data"
    }
   ],
   "source": [
    "q = numpy.asarray([1.0 for _ in range(D)])\n",
    "p = numpy.asarray([stats.norm.rvs(0, 1) for _ in range(D) ])\n",
    "\n",
    "Hs = [0] * (L + 1)\n",
    "q1s = [0] * (L + 1)\n",
    "p1s = [0] * (L + 1)\n",
    "\n",
    "Hs[0] = hamiltonian(q, p)\n",
    "q1s[0] = q[0]\n",
    "p1s[0] = p[0]\n",
    "\n",
    "for l in range(L):\n",
    "  q, p = leapfrog(q, p, epsilon)\n",
    "  Hs[l + 1] = hamiltonian(q, p)\n",
    "  q1s[l + 1] = q[0]\n",
    "  p1s[l + 1] = p[0]\n",
    "  \n",
    "plot.plot(q1s, p1s, color=dark_highlight)\n",
    "plot.gca().set_xlabel(\"q1\")\n",
    "plot.gca().set_ylabel(\"p1\")\n",
    "plot.show()"
   ]
  },
  {
   "cell_type": "markdown",
   "metadata": {},
   "source": [
    "By multinomially sampling we utilize the entire numerial trajectory and become more robust to tuning.  The random forward and backwards evolution also sets up dynamic methods that automatically tune the integration time."
   ]
  },
  {
   "cell_type": "code",
   "execution_count": null,
   "metadata": {},
   "outputs": [],
   "source": []
  }
 ],
 "metadata": {
  "kernelspec": {
   "display_name": "p36ws",
   "language": "python",
   "name": "p36ws"
  },
  "language_info": {
   "codemirror_mode": {
    "name": "ipython",
    "version": 3
   },
   "file_extension": ".py",
   "mimetype": "text/x-python",
   "name": "python",
   "nbconvert_exporter": "python",
   "pygments_lexer": "ipython3",
   "version": "3.6.8"
  }
 },
 "nbformat": 4,
 "nbformat_minor": 2
}
