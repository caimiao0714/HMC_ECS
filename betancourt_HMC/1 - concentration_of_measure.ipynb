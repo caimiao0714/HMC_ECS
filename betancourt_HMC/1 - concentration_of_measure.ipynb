{
 "cells": [
  {
   "cell_type": "code",
   "execution_count": 1,
   "metadata": {},
   "outputs": [],
   "source": [
    "import matplotlib.pyplot as plot\n",
    "import scipy.stats as stats\n",
    "import numpy\n",
    "import math\n",
    "\n",
    "light = \"#DCBCBC\"\n",
    "light_highlight = \"#C79999\"\n",
    "mid = \"#B97C7C\"\n",
    "mid_highlight = \"#A25050\"\n",
    "dark = \"#8F2727\"\n",
    "dark_highlight = \"#7C0000\"\n",
    "green = \"#00FF00\""
   ]
  },
  {
   "cell_type": "markdown",
   "metadata": {},
   "source": [
    "To facilitate the computation of Monte Carlo estimators let's define a _Welford accumulator_ that __computes empirical means and variances of a sample in a single pass__."
   ]
  },
  {
   "cell_type": "code",
   "execution_count": 2,
   "metadata": {},
   "outputs": [],
   "source": [
    "def welford_summary(x):\n",
    "  summary = [0.0, 0.0]\n",
    "  for n in range(len(x)):\n",
    "    delta = x[n] - summary[0]\n",
    "    summary[0] += delta / (n + 1)\n",
    "    summary[1] += delta * (x[n] - summary[0])\n",
    "  summary[1] /= (len(x) - 1)\n",
    "  return summary"
   ]
  },
  {
   "cell_type": "markdown",
   "metadata": {},
   "source": [
    "We can then use the Welford accumulator output to __compute the Monte Carlo estimator of a function and an estimate of its Monte Carlo Standard Error__."
   ]
  },
  {
   "cell_type": "code",
   "execution_count": 4,
   "metadata": {},
   "outputs": [],
   "source": [
    "def compute_mc_stats(x):\n",
    "  summary = welford_summary(x)\n",
    "  return [summary[0], math.sqrt(summary[1] / len(x))]\n",
    "\n",
    "# To generate our samples we'll use numpy's pseudo random number\n",
    "# generator which needs to be seeded to achieve reproducible\n",
    "# results\n",
    "numpy.random.seed(seed=8675309)"
   ]
  },
  {
   "cell_type": "code",
   "execution_count": 5,
   "metadata": {},
   "outputs": [],
   "source": [
    "# To ensure accurate results let's generate pretty large samples\n",
    "N = 100000\n",
    "\n",
    "# To see how results scale with dimension we'll consider\n",
    "# behavior one thorugh ten dimensions\n",
    "Ds = [ n + 1 for n in range(10) ]\n",
    "\n",
    "idxs = [ idx for idx in range(Ds[-1]) for r in range(2) ]\n",
    "plot_Ds = [ D + delta for D in Ds for delta in [-0.5, 0.5]]\n",
    "\n",
    "# Quantile probabilities that we'll use to quantify distributions\n",
    "quant_probs = [10, 20, 30, 40, 50, 60, 70, 80, 90]"
   ]
  },
  {
   "cell_type": "code",
   "execution_count": 6,
   "metadata": {},
   "outputs": [
    {
     "data": {
      "text/plain": [
       "[0.5,\n",
       " 1.5,\n",
       " 1.5,\n",
       " 2.5,\n",
       " 2.5,\n",
       " 3.5,\n",
       " 3.5,\n",
       " 4.5,\n",
       " 4.5,\n",
       " 5.5,\n",
       " 5.5,\n",
       " 6.5,\n",
       " 6.5,\n",
       " 7.5,\n",
       " 7.5,\n",
       " 8.5,\n",
       " 8.5,\n",
       " 9.5,\n",
       " 9.5,\n",
       " 10.5]"
      ]
     },
     "execution_count": 6,
     "metadata": {},
     "output_type": "execute_result"
    }
   ],
   "source": [
    "Ds\n",
    "idxs\n",
    "plot_Ds"
   ]
  },
  {
   "cell_type": "markdown",
   "metadata": {},
   "source": [
    "### What is the volume of central rectangular box that spans [-1, +1] in each dimension relative to the volume of a box spanning [-3, +3] in each dimension?"
   ]
  },
  {
   "cell_type": "code",
   "execution_count": 7,
   "metadata": {},
   "outputs": [
    {
     "data": {
      "image/png": "[encoded data removed]",
      "text/plain": [
       "<Figure size 432x288 with 1 Axes>"
      ]
     },
     "metadata": {
      "needs_background": "light"
     },
     "output_type": "display_data"
    }
   ],
   "source": [
    "prob_means = [0] * len(Ds)\n",
    "prob_ses = [0] * len(Ds)\n",
    "\n",
    "for D in Ds:\n",
    "  # Is the sampled point in the central interval?\n",
    "  is_central_samples = [0] * N\n",
    "  \n",
    "  for n in range(N):\n",
    "    # We start by assuming that the point will be\n",
    "    # in the central interval\n",
    "    is_central = 1\n",
    "    \n",
    "    # Sample a new point one dimension at a time\n",
    "    for d in range(D):\n",
    "      x_d = stats.uniform.rvs(-3, 3, size=1)\n",
    "      \n",
    "      # If the component of the point in the current\n",
    "      # dimension is not contained within the central\n",
    "      # interval then set the flag to false\n",
    "      if -1 < x_d and x_d < 1:\n",
    "        is_central = is_central & 1\n",
    "      else:\n",
    "        is_central = is_central & 0\n",
    "    \n",
    "    is_central_samples[n] = is_central\n",
    "  \n",
    "  # Estimate the relative volume as a probability\n",
    "  s = compute_mc_stats(is_central_samples)\n",
    "  prob_means[D - 1] = s[0]\n",
    "  prob_ses[D - 1] = s[1]\n",
    "\n",
    "# Plot probabilities verses dimension\n",
    "plot.fill_between(plot_Ds, \n",
    "                  [ prob_means[idx] - 2 * prob_ses[idx] for idx in idxs ],\n",
    "                  [ prob_means[idx] + 2 * prob_ses[idx] for idx in idxs ],\n",
    "                  facecolor=light, color=light)\n",
    "plot.plot(plot_Ds, [ prob_means[idx] for idx in idxs], color=dark)\n",
    "  \n",
    "plot.gca().set_xlim([plot_Ds[0], plot_Ds[-1]])\n",
    "plot.gca().set_xlabel(\"Dimension\")\n",
    "plot.gca().set_ylim([0, 0.5])\n",
    "plot.gca().set_ylabel(\"Probability\")\n",
    "\n",
    "plot.show()"
   ]
  },
  {
   "cell_type": "markdown",
   "metadata": {},
   "source": [
    "### How much volume is in the neighborhood immediately outside a sphere, between a radius of 2 and 2.5, relative to the volume that lies in a neighborhood immediately inside that sphere, between a radius of 1.5 and 2?"
   ]
  },
  {
   "cell_type": "code",
   "execution_count": 6,
   "metadata": {},
   "outputs": [
    {
     "data": {
      "image/png": "[encoded data removed]",
      "text/plain": [
       "<Figure size 432x288 with 1 Axes>"
      ]
     },
     "metadata": {
      "needs_background": "light"
     },
     "output_type": "display_data"
    },
    {
     "data": {
      "image/png": "[encoded data removed]",
      "text/plain": [
       "<Figure size 432x288 with 1 Axes>"
      ]
     },
     "metadata": {
      "needs_background": "light"
     },
     "output_type": "display_data"
    }
   ],
   "source": [
    "prob_inner_means = [0] * len(Ds)\n",
    "prob_inner_ses = [0] * len(Ds)\n",
    "\n",
    "prob_outer_means = [0] * len(Ds)\n",
    "prob_outer_ses = [0] * len(Ds)\n",
    "\n",
    "R = 2\n",
    "delta = 0.5\n",
    "\n",
    "for D in Ds:\n",
    "  # Does the sampled point fall in the inside neighborhood?\n",
    "  is_inner_samples = [0] * N\n",
    "  # Does the sampled point fall in the outside neighborhood?\n",
    "  is_outer_samples = [0] * N\n",
    "  \n",
    "  for n in range(N):\n",
    "    # Sample a new point\n",
    "    x = stats.uniform.rvs(-3, 3, size=D)\n",
    "    \n",
    "    # Compute distance from origin\n",
    "    r = math.sqrt(sum([ x_d**2 for x_d in x]))\n",
    "    \n",
    "    # Check if point falls in the inside neighborhood\n",
    "    if R - delta < r and r < R:\n",
    "      is_inner_samples[n] = 1\n",
    "    \n",
    "    # Check if point falls in the outside neighborhood\n",
    "    if R < r and r < R + delta:\n",
    "      is_outer_samples[n] = 1;\n",
    "  \n",
    "  # Estimate the relative volumes as probabilies\n",
    "  s1 = compute_mc_stats(is_inner_samples)\n",
    "  prob_inner_means[D - 1] = s1[0]\n",
    "  prob_inner_ses[D - 1] = s1[1]\n",
    "  \n",
    "  s2 = compute_mc_stats(is_outer_samples)\n",
    "  prob_outer_means[D - 1] = s2[0]\n",
    "  prob_outer_ses[D - 1] = s2[1]\n",
    "\n",
    "# Plot probabilities verses dimension\n",
    "plot.fill_between(plot_Ds, \n",
    "                  [ prob_inner_means[idx] - 2 * prob_inner_ses[idx] for idx in idxs ],\n",
    "                  [ prob_inner_means[idx] + 2 * prob_inner_ses[idx] for idx in idxs ],\n",
    "                  facecolor=light, color=light)\n",
    "plot.plot(plot_Ds, [ prob_inner_means[idx] for idx in idxs], color=light_highlight)\n",
    "  \n",
    "plot.fill_between(plot_Ds, \n",
    "                  [ prob_outer_means[idx] - 2 * prob_outer_ses[idx] for idx in idxs ],\n",
    "                  [ prob_outer_means[idx] + 2 * prob_outer_ses[idx] for idx in idxs ],\n",
    "                  facecolor=dark, color=dark)\n",
    "plot.plot(plot_Ds, [ prob_outer_means[idx] for idx in idxs], color=dark_highlight)\n",
    "\n",
    "plot.gca().set_xlim([plot_Ds[0], plot_Ds[-1]])\n",
    "plot.gca().set_xlabel(\"Dimension\")\n",
    "plot.gca().set_ylim([0, 0.25])\n",
    "plot.gca().set_ylabel(\"Probability\")\n",
    "\n",
    "plot.show()\n",
    "\n",
    "# Plot ratio of probabilities verses dimension\n",
    "plot.plot(plot_Ds, \n",
    "          [ prob_outer_means[idx] / prob_inner_means[idx] for idx in idxs],\n",
    "          color=dark_highlight)\n",
    "\n",
    "plot.gca().set_xlim([plot_Ds[0], plot_Ds[-1]])\n",
    "plot.gca().set_xlabel(\"Dimension\")\n",
    "plot.gca().set_ylim([0, 15])\n",
    "plot.gca().set_ylabel(\"Ratio of Outer verses Inner Probability\")\n",
    "\n",
    "plot.show()"
   ]
  },
  {
   "cell_type": "markdown",
   "metadata": {},
   "source": [
    "### How does the distance between two sampled points behave as the dimensionality of the box increases?"
   ]
  },
  {
   "cell_type": "code",
   "execution_count": 7,
   "metadata": {},
   "outputs": [
    {
     "data": {
      "image/png": "[encoded data removed]",
      "text/plain": [
       "<Figure size 432x288 with 1 Axes>"
      ]
     },
     "metadata": {
      "needs_background": "light"
     },
     "output_type": "display_data"
    },
    {
     "data": {
      "image/png": "[encoded data removed]",
      "text/plain": [
       "<Figure size 432x288 with 1 Axes>"
      ]
     },
     "metadata": {
      "needs_background": "light"
     },
     "output_type": "display_data"
    }
   ],
   "source": [
    "delta_means = [0] * len(Ds)\n",
    "delta_ses = [0] * len(Ds)\n",
    "delta_quantiles = [ [0] * 9 ] * len(Ds)\n",
    "\n",
    "for D in Ds:\n",
    "  # Distances between two sampled points\n",
    "  delta_samples = [0] * N\n",
    "  \n",
    "  for n in range(N):\n",
    "    # Sample two points\n",
    "    x1 = stats.uniform.rvs(-3, 3, size=D)\n",
    "    x2 = stats.uniform.rvs(-3, 3, size=D)\n",
    "    \n",
    "    # Compute distance between them\n",
    "    delta_samples[n] = math.sqrt(sum([ (x1[d] - x2[d])**2 for d in range(D)]))\n",
    "  \n",
    "  # Estimate average distance\n",
    "  s = compute_mc_stats(delta_samples)\n",
    "  delta_means[D - 1] = s[0]\n",
    "  delta_ses[D - 1] = s[1]\n",
    "  \n",
    "  # Estimate distance quantiles\n",
    "  delta_quantiles[D - 1] = numpy.percentile(delta_samples, quant_probs)\n",
    "\n",
    "# Plot average distance between points verses dimension\n",
    "plot.fill_between(plot_Ds, \n",
    "                  [ delta_means[idx] - 2 * delta_ses[idx] for idx in idxs ],\n",
    "                  [ delta_means[idx] + 2 * delta_ses[idx] for idx in idxs ],\n",
    "                  facecolor=light, color=light)\n",
    "plot.plot(plot_Ds, [ delta_means[idx] for idx in idxs], color=dark)\n",
    "\n",
    "plot.gca().set_xlim([plot_Ds[0], plot_Ds[-1]])\n",
    "plot.gca().set_xlabel(\"Dimension\")\n",
    "plot.gca().set_ylim([0, 5])\n",
    "plot.gca().set_ylabel(\"Average Distance Between Points\")\n",
    "\n",
    "plot.show()\n",
    "\n",
    "# Plot distance quantiles verses dimension\n",
    "plot.fill_between(plot_Ds, \n",
    "                  [ delta_quantiles[idx][0] for idx in idxs ],\n",
    "                  [ delta_quantiles[idx][8] for idx in idxs ],\n",
    "                  facecolor=light, color=light)\n",
    "plot.fill_between(plot_Ds, \n",
    "                  [ delta_quantiles[idx][1] for idx in idxs ],\n",
    "                  [ delta_quantiles[idx][7] for idx in idxs ],\n",
    "                  facecolor=light_highlight, color=light_highlight)\n",
    "plot.fill_between(plot_Ds, \n",
    "                  [ delta_quantiles[idx][2] for idx in idxs ],\n",
    "                  [ delta_quantiles[idx][6] for idx in idxs ],\n",
    "                  facecolor=mid, color=mid)\n",
    "plot.fill_between(plot_Ds, \n",
    "                  [ delta_quantiles[idx][3] for idx in idxs ],\n",
    "                  [ delta_quantiles[idx][5] for idx in idxs ],\n",
    "                  facecolor=mid_highlight, color=mid_highlight)\n",
    "plot.plot(plot_Ds, [ delta_quantiles[idx][4] for idx in idxs ], color=dark)\n",
    "                  \n",
    "plot.gca().set_xlim([plot_Ds[0], plot_Ds[-1]])\n",
    "plot.gca().set_xlabel(\"Dimension\")\n",
    "plot.gca().set_ylim([0, 5])\n",
    "plot.gca().set_ylabel(\"Distance Between Points\")\n",
    "\n",
    "plot.show()"
   ]
  },
  {
   "cell_type": "markdown",
   "metadata": {},
   "source": [
    "### How does the distance from a Gaussian sample and the Gaussian mode behave as the dimensionality increases?"
   ]
  },
  {
   "cell_type": "code",
   "execution_count": 8,
   "metadata": {},
   "outputs": [
    {
     "data": {
      "image/png": "[encoded data removed]",
      "text/plain": [
       "<Figure size 432x288 with 1 Axes>"
      ]
     },
     "metadata": {
      "needs_background": "light"
     },
     "output_type": "display_data"
    },
    {
     "data": {
      "image/png": "[encoded data removed]",
      "text/plain": [
       "<Figure size 432x288 with 1 Axes>"
      ]
     },
     "metadata": {
      "needs_background": "light"
     },
     "output_type": "display_data"
    },
    {
     "data": {
      "image/png": "[encoded data removed]",
      "text/plain": [
       "<Figure size 432x288 with 1 Axes>"
      ]
     },
     "metadata": {
      "needs_background": "light"
     },
     "output_type": "display_data"
    }
   ],
   "source": [
    "r_means = [0] * len(Ds)\n",
    "r_ses = [0] * len(Ds)\n",
    "r_quantiles = [ [0] * 9 ] * len(Ds)\n",
    "\n",
    "for D in Ds: \n",
    "  # Distance from Gaussian samples to mode at zero\n",
    "  r_samples = [0] * N\n",
    "  \n",
    "  for n in range(N):\n",
    "    # Sample point\n",
    "    x = stats.norm.rvs(0, 1, size=D)\n",
    "    \n",
    "    # Compute distance from point to mode at zero\n",
    "    r_samples[n] = math.sqrt(sum([ x_d**2 for x_d in x]))\n",
    "  \n",
    "  # Estimate average distance\n",
    "  s = compute_mc_stats(r_samples)\n",
    "  r_means[D - 1] = s[0]\n",
    "  r_ses[D - 1] = s[1]\n",
    "  \n",
    "  # Estimate distance quantiles\n",
    "  r_quantiles[D - 1] = numpy.percentile(r_samples, quant_probs)\n",
    "\n",
    "# Plot average distance from mode verses dimension\n",
    "plot.fill_between(plot_Ds, \n",
    "                  [ r_means[idx] - 2 * r_ses[idx] for idx in idxs ],\n",
    "                  [ r_means[idx] + 2 * r_ses[idx] for idx in idxs ],\n",
    "                  facecolor=light, color=light)\n",
    "plot.plot(plot_Ds, [ r_means[idx] for idx in idxs], color=dark)\n",
    "\n",
    "plot.gca().set_xlim([plot_Ds[0], plot_Ds[-1]])\n",
    "plot.gca().set_xlabel(\"Dimension\")\n",
    "plot.gca().set_ylim([0, 4])\n",
    "plot.gca().set_ylabel(\"Average Distance From Mode\")\n",
    "\n",
    "plot.show()\n",
    "\n",
    "# Plot distance quantiles verses dimension\n",
    "plot.fill_between(plot_Ds, \n",
    "                  [ r_quantiles[idx][0] for idx in idxs ],\n",
    "                  [ r_quantiles[idx][8] for idx in idxs ],\n",
    "                  facecolor=light, color=light)\n",
    "plot.fill_between(plot_Ds, \n",
    "                  [ r_quantiles[idx][1] for idx in idxs ],\n",
    "                  [ r_quantiles[idx][7] for idx in idxs ],\n",
    "                  facecolor=light_highlight, color=light_highlight)\n",
    "plot.fill_between(plot_Ds, \n",
    "                  [ r_quantiles[idx][2] for idx in idxs ],\n",
    "                  [ r_quantiles[idx][6] for idx in idxs ],\n",
    "                  facecolor=mid, color=mid)\n",
    "plot.fill_between(plot_Ds, \n",
    "                  [ r_quantiles[idx][3] for idx in idxs ],\n",
    "                  [ r_quantiles[idx][5] for idx in idxs ],\n",
    "                  facecolor=mid_highlight, color=mid_highlight)\n",
    "plot.plot(plot_Ds, [ r_quantiles[idx][4] for idx in idxs ], color=dark)\n",
    "                  \n",
    "plot.gca().set_xlim([plot_Ds[0], plot_Ds[-1]])\n",
    "plot.gca().set_xlabel(\"Dimension\")\n",
    "plot.gca().set_ylim([0, 4])\n",
    "plot.gca().set_ylabel(\"Distance From Mode\")\n",
    "\n",
    "plot.show()\n",
    "\n",
    "# Plot residual quantiles verses dimension\n",
    "plot.fill_between(plot_Ds, \n",
    "                  [ r_quantiles[idx][0] - r_quantiles[idx][4] for idx in idxs ],\n",
    "                  [ r_quantiles[idx][8] - r_quantiles[idx][4] for idx in idxs ],\n",
    "                  facecolor=light, color=light)\n",
    "plot.fill_between(plot_Ds, \n",
    "                  [ r_quantiles[idx][1] - r_quantiles[idx][4] for idx in idxs ],\n",
    "                  [ r_quantiles[idx][7] - r_quantiles[idx][4] for idx in idxs ],\n",
    "                  facecolor=light_highlight, color=light_highlight)\n",
    "plot.fill_between(plot_Ds, \n",
    "                  [ r_quantiles[idx][2] - r_quantiles[idx][4] for idx in idxs ],\n",
    "                  [ r_quantiles[idx][6] - r_quantiles[idx][4] for idx in idxs ],\n",
    "                  facecolor=mid, color=mid)\n",
    "plot.fill_between(plot_Ds, \n",
    "                  [ r_quantiles[idx][3] - r_quantiles[idx][4] for idx in idxs ],\n",
    "                  [ r_quantiles[idx][5] - r_quantiles[idx][4] for idx in idxs ],\n",
    "                  facecolor=mid_highlight, color=mid_highlight)\n",
    "plot.plot(plot_Ds, [ r_quantiles[idx][4] - r_quantiles[idx][4] for idx in idxs ], \n",
    "          color=dark)\n",
    "                  \n",
    "plot.gca().set_xlim([plot_Ds[0], plot_Ds[-1]])\n",
    "plot.gca().set_xlabel(\"Dimension\")\n",
    "plot.gca().set_ylim([-2, 2])\n",
    "plot.gca().set_ylabel(\"Residual From Median Distance\")\n",
    "\n",
    "plot.show()"
   ]
  },
  {
   "cell_type": "markdown",
   "metadata": {},
   "source": [
    "### What is the probability of a Gaussian sample falling into a spherical neighborhood around the mode at zero?"
   ]
  },
  {
   "cell_type": "code",
   "execution_count": 9,
   "metadata": {},
   "outputs": [
    {
     "data": {
      "image/png": "[encoded data removed]",
      "text/plain": [
       "<Figure size 432x288 with 1 Axes>"
      ]
     },
     "metadata": {
      "needs_background": "light"
     },
     "output_type": "display_data"
    }
   ],
   "source": [
    "prob_means = [0] * len(Ds)\n",
    "prob_ses = [0] * len(Ds)\n",
    "\n",
    "R = 1\n",
    "\n",
    "for D in Ds: \n",
    "  # Does the sample fall into the spherical neighborhood?\n",
    "  is_central_samples = [0] * N\n",
    "  \n",
    "  for n in range(N):\n",
    "    # Sample a new point\n",
    "    x = stats.norm.rvs(0, 1, size=D)\n",
    "\n",
    "    # Compute radial distance from mode\n",
    "    r = math.sqrt(sum([ x_d**2 for x_d in x]))\n",
    "    \n",
    "    # Check if sample is contained within spherical neighborhood\n",
    "    if r < R:\n",
    "      is_central_samples[n] = 1\n",
    "  \n",
    "  # Estimate probability of falling into spherical neighborhood\n",
    "  s = compute_mc_stats(is_central_samples)\n",
    "  prob_means[D - 1] = s[0]\n",
    "  prob_ses[D - 1] = s[1]\n",
    "\n",
    "# Plot inclusion probability verses dimension\n",
    "plot.fill_between(plot_Ds, \n",
    "                  [ prob_means[idx] - 2 * prob_ses[idx] for idx in idxs ],\n",
    "                  [ prob_means[idx] + 2 * prob_ses[idx] for idx in idxs ],\n",
    "                  facecolor=light, color=light)\n",
    "plot.plot(plot_Ds, [ prob_means[idx] for idx in idxs], color=dark)\n",
    "\n",
    "plot.gca().set_xlim([plot_Ds[0], plot_Ds[-1]])\n",
    "plot.gca().set_xlabel(\"Dimension\")\n",
    "plot.gca().set_ylim([0, 0.7])\n",
    "plot.gca().set_ylabel(\"Inclusion Probability\")\n",
    "\n",
    "plot.show()\n",
    "\n",
    "# Done early?  Can you derive this probability analytically?\n",
    "# Hint: convert to spherical coordinates and marginalize out\n",
    "# the hyperspherical angles"
   ]
  }
 ],
 "metadata": {
  "kernelspec": {
   "display_name": "p36ws",
   "language": "python",
   "name": "p36ws"
  },
  "language_info": {
   "codemirror_mode": {
    "name": "ipython",
    "version": 3
   },
   "file_extension": ".py",
   "mimetype": "text/x-python",
   "name": "python",
   "nbconvert_exporter": "python",
   "pygments_lexer": "ipython3",
   "version": "3.6.8"
  }
 },
 "nbformat": 4,
 "nbformat_minor": 2
}
