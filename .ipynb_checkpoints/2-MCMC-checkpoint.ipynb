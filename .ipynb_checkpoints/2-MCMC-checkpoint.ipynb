{
 "cells": [
  {
   "cell_type": "code",
   "execution_count": 1,
   "metadata": {},
   "outputs": [],
   "source": [
    "import matplotlib.pyplot as plot\n",
    "import scipy.stats as stats\n",
    "import numpy\n",
    "import math\n",
    "\n",
    "light = \"#DCBCBC\"\n",
    "light_highlight = \"#C79999\"\n",
    "mid = \"#B97C7C\"\n",
    "mid_highlight = \"#A25050\"\n",
    "dark = \"#8F2727\"\n",
    "dark_highlight = \"#7C0000\"\n",
    "green = \"#00FF00\""
   ]
  },
  {
   "cell_type": "markdown",
   "metadata": {},
   "source": [
    "To facilitate the computation of Markov chain Monte Carlo estimators let's define a _Welford accumulator_ that computes empirical summaries of a sample in a single pass"
   ]
  },
  {
   "cell_type": "code",
   "execution_count": 2,
   "metadata": {},
   "outputs": [],
   "source": [
    "def welford_summary(x, L = 100):\n",
    "  summary = [0] * (L + 1)\n",
    "  for n in range(len(x)):\n",
    "    delta = x[n] - summary[0]\n",
    "    summary[0] += delta / (n + 1)\n",
    "    for l in range(L):\n",
    "      if n > l:\n",
    "        summary[l + 1] += delta * (x[n - l] - summary[0])\n",
    "\n",
    "  norm = 1.0 / (len(x) - 1)\n",
    "  for l in range(L): summary[l + 1] *= norm\n",
    "  return summary\n",
    "\n",
    "# We can then use the Welford accumulator output to compute the\n",
    "# Markov chain Monte Carlo estimators and their properties\n",
    "def compute_mcmc_stats(x, L = 20):\n",
    "  summary = welford_summary(x, L)\n",
    "  \n",
    "  mean = summary[0]\n",
    "  var = summary[1]\n",
    "  acov = summary[1:(L + 1)]\n",
    "  \n",
    "  # Compute the effective sample size\n",
    "  rho_hat_s = [0] * L\n",
    "  rho_hat_s[1] = acov[1] / var\n",
    "  \n",
    "  # First we transform our autocovariances into Geyer's initial positive sequence\n",
    "  max_s = 1\n",
    "  for s in [ 2 * i + 1 for i in range((L - 1) // 2) ]:\n",
    "    rho_hat_even = acov[s + 1] / var\n",
    "    rho_hat_odd = acov[s + 2] / var;\n",
    "    \n",
    "    max_s = s + 2  \n",
    "    \n",
    "    if rho_hat_even + rho_hat_odd > 0:\n",
    "      rho_hat_s[s + 1] = rho_hat_even\n",
    "      rho_hat_s[s + 2] = rho_hat_odd\n",
    "    else:   \n",
    "      break\n",
    "  \n",
    "  # Then we transform this output into Geyer's initial monotone sequence\n",
    "  for s in [ 2 * i + 3 for i in range((max_s - 2)// 2) ]:\n",
    "    if rho_hat_s[s + 1] + rho_hat_s[s + 2] > rho_hat_s[s - 1] + rho_hat_s[s]:\n",
    "      rho_hat_s[s + 1] = 0.5 * (rho_hat_s[s - 1] + rho_hat_s[s])\n",
    "      rho_hat_s[s + 2] = rho_hat_s[s + 1]\n",
    "  \n",
    "  ess = len(x) / (1.0 + 2 * sum(rho_hat_s))\n",
    "  \n",
    "  return [mean, math.sqrt(var / ess), math.sqrt(var), ess]"
   ]
  },
  {
   "cell_type": "markdown",
   "metadata": {},
   "source": [
    "To generate our samples we'll use numpy's pseudo random number generator which needs to be seeded to achieve reproducible results"
   ]
  },
  {
   "cell_type": "code",
   "execution_count": 3,
   "metadata": {},
   "outputs": [],
   "source": [
    "numpy.random.seed(seed=8675309)\n",
    "\n",
    "# To ensure accurate results let's generate pretty large samples\n",
    "N = 10000\n",
    "\n",
    "# To see how results scale with dimension we'll consider\n",
    "# behavior one thorugh ten dimensions\n",
    "Ds = [ n + 1 for n in range(10) ]\n",
    "\n",
    "idxs = [ idx for idx in range(Ds[-1]) for r in range(2) ]\n",
    "plot_Ds = [ D + delta for D in Ds for delta in [-0.5, 0.5]]"
   ]
  },
  {
   "cell_type": "markdown",
   "metadata": {},
   "source": [
    "### How does the Random Walk Metropolis algorithm perform on a target distribution with a two-dimensional Gaussian density function?"
   ]
  },
  {
   "cell_type": "code",
   "execution_count": 4,
   "metadata": {},
   "outputs": [
    {
     "data": {
      "image/png": "[encoded data removed]",
      "text/plain": [
       "<Figure size 432x288 with 1 Axes>"
      ]
     },
     "metadata": {
      "needs_background": "light"
     },
     "output_type": "display_data"
    },
    {
     "data": {
      "image/png": "[encoded data removed]",
      "text/plain": [
       "<Figure size 432x288 with 1 Axes>"
      ]
     },
     "metadata": {
      "needs_background": "light"
     },
     "output_type": "display_data"
    }
   ],
   "source": [
    "# Target density\n",
    "def target_lpdf(x):\n",
    "  return - 0.5 * ( (x[0] - 1)**2 + (x[1] + 1)**2 ) \\\n",
    "         - 0.5 * 2 * math.log(6.283185307179586)\n",
    "\n",
    "# Tune proposal density\n",
    "sigma = 1.4\n",
    "\n",
    "# A place to store our Markov chain\n",
    "# D columns for the parameters and one extra column\n",
    "# for the Metropolis acceptance probability\n",
    "D = 2\n",
    "mcmc_samples = [[0] * (D + 1) for _ in range(N)]\n",
    "\n",
    "# Randomly seed the initial state\n",
    "mcmc_samples[0][0] = stats.norm.rvs(0, 3)\n",
    "mcmc_samples[0][1] = stats.norm.rvs(0, 3)\n",
    "mcmc_samples[0][2] = 1\n",
    "\n",
    "for n in range(1, N):\n",
    "  x0 = [ mcmc_samples[n - 1][0], mcmc_samples[n - 1][1]]\n",
    "  xp = [ stats.norm.rvs(x0[0], sigma), stats.norm.rvs(x0[1], sigma) ]\n",
    "\n",
    "  # Compute acceptance probability\n",
    "  accept_prob = 1\n",
    "  if target_lpdf(xp) < target_lpdf(x0):\n",
    "    accept_prob = math.exp(target_lpdf(xp) - target_lpdf(x0))\n",
    "  mcmc_samples[n][D] = accept_prob\n",
    "  \n",
    "  # Apply Metropolis correction\n",
    "  u = stats.uniform.rvs(0, 1)\n",
    "  if accept_prob > u:\n",
    "    mcmc_samples[n][0] = xp[0]\n",
    "    mcmc_samples[n][1] = xp[1]\n",
    "  else:\n",
    "    mcmc_samples[n][0] = x0[0]\n",
    "    mcmc_samples[n][1] = x0[1]\n",
    "\n",
    "# Compute MCMC estimator statistics, leaving\n",
    "# out the first 100 samples as warmup\n",
    "compute_mcmc_stats([ s[0] for s in mcmc_samples[100:] ])\n",
    "compute_mcmc_stats([ s[1] for s in mcmc_samples[100:] ])\n",
    "\n",
    "# Plot convergence of MCMC estimators for each parameter\n",
    "stride = 250\n",
    "M = N // stride\n",
    "\n",
    "iters = [ stride * (i + 1) for i in range(N // stride) ]\n",
    "\n",
    "x1_mean = [0] * M \n",
    "x1_se = [0] * M\n",
    "\n",
    "x2_mean = [0] * M\n",
    "x2_se = [0] * M\n",
    "\n",
    "for m in range(M):\n",
    "  running_samples = [ s[0] for s in mcmc_samples[100:iters[m]] ]\n",
    "  mcmc_stats = compute_mcmc_stats(running_samples)\n",
    "  x1_mean[m] = mcmc_stats[0]\n",
    "  x1_se[m] = mcmc_stats[1]\n",
    "  \n",
    "  running_samples = [ s[1] for s in mcmc_samples[100:iters[m]] ]\n",
    "  mcmc_stats = compute_mcmc_stats(running_samples)\n",
    "  x2_mean[m] = mcmc_stats[0]\n",
    "  x2_se[m] = mcmc_stats[1]\n",
    "\n",
    "plot.fill_between(iters, \n",
    "                  [ x1_mean[m] - 2 * x1_se[m] for m in range(M) ],\n",
    "                  [ x1_mean[m] + 2 * x1_se[m] for m in range(M) ],\n",
    "                  facecolor=light, color=light)\n",
    "plot.plot(iters, x1_mean, color=dark)\n",
    "plot.plot([iters[0], iters[-1]], [1, 1], color='grey', linestyle='--')\n",
    "\n",
    "plot.gca().set_xlim([0, N])\n",
    "plot.gca().set_xlabel(\"Iteration\")\n",
    "plot.gca().set_ylim([-2, 2])\n",
    "plot.gca().set_ylabel(\"Monte Carlo Estimator\")\n",
    "\n",
    "plot.show()\n",
    "\n",
    "plot.fill_between(iters, \n",
    "                  [ x2_mean[m] - 2 * x2_se[m] for m in range(M) ],\n",
    "                  [ x2_mean[m] + 2 * x2_se[m] for m in range(M) ],\n",
    "                  facecolor=light, color=light)\n",
    "plot.plot(iters, x2_mean, color=dark)\n",
    "plot.plot([iters[0], iters[-1]], [-1, -1], color='grey', linestyle='--')\n",
    "\n",
    "plot.gca().set_xlim([0, N])\n",
    "plot.gca().set_xlabel(\"Iteration\")\n",
    "plot.gca().set_ylim([-2, 2])\n",
    "plot.gca().set_ylabel(\"Monte Carlo Estimator\")\n",
    "\n",
    "plot.show()"
   ]
  },
  {
   "cell_type": "markdown",
   "metadata": {},
   "source": [
    "### How does the Random Walk Metropolis algorithm perform on a target distribution with a funnel density function?"
   ]
  },
  {
   "cell_type": "code",
   "execution_count": 5,
   "metadata": {},
   "outputs": [
    {
     "data": {
      "image/png": "[encoded data removed]",
      "text/plain": [
       "<Figure size 432x288 with 1 Axes>"
      ]
     },
     "metadata": {
      "needs_background": "light"
     },
     "output_type": "display_data"
    },
    {
     "data": {
      "image/png": "[encoded data removed]",
      "text/plain": [
       "<Figure size 432x288 with 1 Axes>"
      ]
     },
     "metadata": {
      "needs_background": "light"
     },
     "output_type": "display_data"
    }
   ],
   "source": [
    "# Target density\n",
    "def target_lpdf(x):\n",
    "  return - 0.5 * ( x[0]**2 + x[1]**2 + ( (x[2] - x[0]) / math.exp(x[1]) )**2 ) \\\n",
    "         - 0.5 * 3 * math.log(6.283185307179586) - 0.5 * x[2]\n",
    "\n",
    "# Tune proposal density\n",
    "sigma = 1.4\n",
    "\n",
    "# A place to store our Markov chain\n",
    "# D columns for the parameters and one extra column\n",
    "# for the Metropolis acceptance probability\n",
    "D = 3\n",
    "mcmc_samples = [[0] * (D + 1) for _ in range(N)]\n",
    "\n",
    "# Randomly seed the initial state\n",
    "mcmc_samples[0][0] = stats.norm.rvs(0, 3)\n",
    "mcmc_samples[0][1] = stats.norm.rvs(0, 3)\n",
    "mcmc_samples[0][2] = stats.norm.rvs(0, 3)\n",
    "mcmc_samples[0][3] = 1\n",
    "\n",
    "for n in range(1, N):\n",
    "  x0 = [ mcmc_samples[n - 1][0], \n",
    "         mcmc_samples[n - 1][1], \n",
    "         mcmc_samples[n - 1][2]]\n",
    "  xp = [ stats.norm.rvs(x0[0], sigma), \n",
    "         stats.norm.rvs(x0[1], sigma),\n",
    "         stats.norm.rvs(x0[2], sigma) ]\n",
    "\n",
    "  # Compute acceptance probability\n",
    "  accept_prob = 1\n",
    "  if target_lpdf(xp) < target_lpdf(x0):\n",
    "    accept_prob = math.exp(target_lpdf(xp) - target_lpdf(x0))\n",
    "  mcmc_samples[n][D] = accept_prob\n",
    "  \n",
    "  # Apply Metropolis correction\n",
    "  u = stats.uniform.rvs(0, 1)\n",
    "  if accept_prob > u:\n",
    "    mcmc_samples[n][0] = xp[0]\n",
    "    mcmc_samples[n][1] = xp[1]\n",
    "    mcmc_samples[n][2] = xp[2]\n",
    "  else:\n",
    "    mcmc_samples[n][0] = x0[0]\n",
    "    mcmc_samples[n][1] = x0[1]\n",
    "    mcmc_samples[n][2] = x0[2]\n",
    "\n",
    "# Compute MCMC estimator statistics, leaving\n",
    "# out the first 100 samples as warmup\n",
    "compute_mcmc_stats([ s[0] for s in mcmc_samples[100:] ])\n",
    "compute_mcmc_stats([ s[1] for s in mcmc_samples[100:] ])\n",
    "compute_mcmc_stats([ s[2] for s in mcmc_samples[100:] ])\n",
    "\n",
    "# Plot convergence of MCMC estimators for each parameter\n",
    "stride = 250\n",
    "M = N // stride\n",
    "\n",
    "iters = [ stride * (i + 1) for i in range(N // stride) ]\n",
    "\n",
    "mu_mean = [0] * M \n",
    "mu_se = [0] * M\n",
    "\n",
    "log_tau_mean = [0] * M\n",
    "log_tau_se = [0] * M\n",
    "\n",
    "for m in range(M):\n",
    "  running_samples = [ s[0] for s in mcmc_samples[100:iters[m]] ]\n",
    "  mcmc_stats = compute_mcmc_stats(running_samples)\n",
    "  mu_mean[m] = mcmc_stats[0]\n",
    "  mu_se[m] = mcmc_stats[1]\n",
    "  \n",
    "  running_samples = [ s[1] for s in mcmc_samples[100:iters[m]] ]\n",
    "  mcmc_stats = compute_mcmc_stats(running_samples)\n",
    "  log_tau_mean[m] = mcmc_stats[0]\n",
    "  log_tau_se[m] = mcmc_stats[1]\n",
    "\n",
    "plot.fill_between(iters, \n",
    "                  [ mu_mean[m] - 2 * mu_se[m] for m in range(M) ],\n",
    "                  [ mu_mean[m] + 2 * mu_se[m] for m in range(M) ],\n",
    "                  facecolor=light, color=light)\n",
    "plot.plot(iters, mu_mean, color=dark)\n",
    "plot.plot([iters[0], iters[-1]], [0, 0], color='grey', linestyle='--')\n",
    "\n",
    "plot.gca().set_xlim([0, N])\n",
    "plot.gca().set_xlabel(\"Iteration\")\n",
    "plot.gca().set_ylim([-1, 1])\n",
    "plot.gca().set_ylabel(\"Monte Carlo Estimator\")\n",
    "\n",
    "plot.show()\n",
    "\n",
    "plot.fill_between(iters, \n",
    "                  [ log_tau_mean[m] - 2 * log_tau_se[m] for m in range(M) ],\n",
    "                  [ log_tau_mean[m] + 2 * log_tau_se[m] for m in range(M) ],\n",
    "                  facecolor=light, color=light)\n",
    "plot.plot(iters, log_tau_mean, color=dark)\n",
    "plot.plot([iters[0], iters[-1]], [0, 0], color='grey', linestyle='--')\n",
    "\n",
    "plot.gca().set_xlim([0, N])\n",
    "plot.gca().set_xlabel(\"Iteration\")\n",
    "plot.gca().set_ylim([-1, 8])\n",
    "plot.gca().set_ylabel(\"Monte Carlo Estimator\")\n",
    "\n",
    "plot.show()"
   ]
  },
  {
   "cell_type": "markdown",
   "metadata": {},
   "source": [
    "### How does the effective sample size of a Random Walk Metropolis Markov chain vary with the dimension of the target distribution?"
   ]
  },
  {
   "cell_type": "code",
   "execution_count": 6,
   "metadata": {},
   "outputs": [],
   "source": [
    "def target_lpdf(x):\n",
    "  return - 0.5 * sum([ x_n**2 for x_n in x ]) \\\n",
    "         - 0.5 * len(x) * math.log(6.283185307179586)"
   ]
  },
  {
   "cell_type": "markdown",
   "metadata": {},
   "source": [
    "First let's use a constant Markov transition"
   ]
  },
  {
   "cell_type": "code",
   "execution_count": 7,
   "metadata": {},
   "outputs": [
    {
     "data": {
      "image/png": "[encoded data removed]",
      "text/plain": [
       "<Figure size 432x288 with 2 Axes>"
      ]
     },
     "metadata": {
      "needs_background": "light"
     },
     "output_type": "display_data"
    }
   ],
   "source": [
    "accept_prob_means = [0] * len(Ds)\n",
    "accept_prob_ses = [0] * len(Ds)\n",
    "ave_eff_sample_sizes = [0] * len(Ds)\n",
    "\n",
    "# Tune proposal density\n",
    "sigma = 1.4\n",
    "\n",
    "for D in Ds:\n",
    "  # A place to store our Markov chain\n",
    "  # D columns for the parameters and one extra column\n",
    "  # for the Metropolis acceptance probability\n",
    "  mcmc_samples = [[0] * (D + 1) for _ in range(N)]\n",
    "  \n",
    "  # Seeding the initial state with an exact sample\n",
    "  # from the target distribution ensures that we\n",
    "  # start in the typical set and avoid having to\n",
    "  # worry about warmup.\n",
    "  for d in range(D):\n",
    "    mcmc_samples[0][d] = stats.norm.rvs(0, 3)\n",
    "  mcmc_samples[0][D] = 1\n",
    "  \n",
    "  for n in range(1, N):\n",
    "    x0 = [ mcmc_samples[n - 1][d] for d in range(D) ] \n",
    "    xp = [ stats.norm.rvs(x0[d], sigma) for d in range(D) ]\n",
    "  \n",
    "    # Compute acceptance probability\n",
    "    accept_prob = 1\n",
    "    if target_lpdf(xp) < target_lpdf(x0):\n",
    "      accept_prob = math.exp(target_lpdf(xp) - target_lpdf(x0))\n",
    "    mcmc_samples[n][D] = accept_prob\n",
    "\n",
    "    # Apply Metropolis correction\n",
    "    u = stats.uniform.rvs(0, 1)\n",
    "    if accept_prob > u:\n",
    "      mcmc_samples[n][0:D] = xp\n",
    "    else:\n",
    "      mcmc_samples[n][0:D] = x0\n",
    "  \n",
    "  # Estimate average acceptance probability\n",
    "  \n",
    "  # Compute MCMC estimator statistics\n",
    "  mcmc_stats = compute_mcmc_stats([ s[D] for s in mcmc_samples])\n",
    "  \n",
    "  accept_prob_means[D - 1] = mcmc_stats[0]\n",
    "  accept_prob_ses[D - 1] = mcmc_stats[1]\n",
    "  \n",
    "  # Estimate effective sample size\n",
    "  eff_sample_sizes = [ compute_mcmc_stats([ s[d] for s in mcmc_samples])[3] \\\n",
    "                       for d in range(D) ]\n",
    "  ave_eff_sample_sizes[D - 1] = sum(eff_sample_sizes) / D\n",
    "\n",
    "f, axarr = plot.subplots(1, 2)\n",
    "    \n",
    "axarr[0].set_title(\"\")\n",
    "axarr[0].fill_between(plot_Ds, \n",
    "                      [ accept_prob_means[idx] - 2 * accept_prob_ses[idx] for idx in idxs ],\n",
    "                      [ accept_prob_means[idx] + 2 * accept_prob_ses[idx] for idx in idxs ],\n",
    "                      facecolor=dark, color=dark)\n",
    "axarr[0].plot(plot_Ds, [ accept_prob_means[idx] for idx in idxs], color=dark_highlight)\n",
    "axarr[0].set_xlim([Ds[0], Ds[-1]])\n",
    "axarr[0].set_xlabel(\"Dimension\")\n",
    "axarr[0].set_ylim([0, 1])\n",
    "axarr[0].set_ylabel(\"Average Acceptance Probability\")\n",
    "\n",
    "axarr[1].set_title(\"\")\n",
    "axarr[1].plot(plot_Ds, [ ave_eff_sample_sizes[idx] / N for idx in idxs],\n",
    "              color=dark_highlight)\n",
    "axarr[1].set_xlim([Ds[0], Ds[-1]])\n",
    "axarr[1].set_xlabel(\"Dimension\")\n",
    "axarr[1].set_ylim([0, 0.3])\n",
    "axarr[1].set_ylabel(\"Average Effective Sample Size Per Iteration\")\n",
    "\n",
    "plot.show()\n"
   ]
  },
  {
   "cell_type": "markdown",
   "metadata": {},
   "source": [
    "Now let's use an (approximately) optimally tuned Markov transition for each dimension"
   ]
  },
  {
   "cell_type": "code",
   "execution_count": 8,
   "metadata": {},
   "outputs": [
    {
     "data": {
      "image/png": "[encoded data removed]",
      "text/plain": [
       "<Figure size 432x288 with 2 Axes>"
      ]
     },
     "metadata": {
      "needs_background": "light"
     },
     "output_type": "display_data"
    }
   ],
   "source": [
    "accept_prob_means = [0] * len(Ds)\n",
    "accept_prob_ses = [0] * len(Ds)\n",
    "ave_eff_sample_sizes = [0] * len(Ds)\n",
    "\n",
    "# Approximately optimal proposal tuning\n",
    "opt_sigmas = [2.5, 1.75, 1.5, 1.2, 1.15, 1.0, 0.95, 0.85, 0.8, 0.75]\n",
    "\n",
    "# Tune proposal density\n",
    "sigma = 1.4\n",
    "\n",
    "for D in Ds:\n",
    "  # A place to store our Markov chain\n",
    "  # D columns for the parameters and one extra column\n",
    "  # for the Metropolis acceptance probability\n",
    "  mcmc_samples = [[0] * (D + 1) for _ in range(N)]\n",
    "  \n",
    "  # Seeding the initial state with an exact sample\n",
    "  # from the target distribution ensures that we\n",
    "  # start in the typical set and avoid having to\n",
    "  # worry about warmup.\n",
    "  for d in range(D):\n",
    "    mcmc_samples[0][d] = stats.norm.rvs(0, 3)\n",
    "  mcmc_samples[0][D] = 1\n",
    "  \n",
    "  for n in range(1, N):\n",
    "    x0 = [ mcmc_samples[n - 1][d] for d in range(D) ] \n",
    "    xp = [ stats.norm.rvs(x0[d], opt_sigmas[D - 1]) for d in range(D) ]\n",
    "  \n",
    "    # Compute acceptance probability\n",
    "    accept_prob = 1\n",
    "    if target_lpdf(xp) < target_lpdf(x0):\n",
    "      accept_prob = math.exp(target_lpdf(xp) - target_lpdf(x0))\n",
    "    mcmc_samples[n][D] = accept_prob\n",
    "\n",
    "    # Apply Metropolis correction\n",
    "    u = stats.uniform.rvs(0, 1)\n",
    "    if accept_prob > u:\n",
    "      mcmc_samples[n][0:D] = xp\n",
    "    else:\n",
    "      mcmc_samples[n][0:D] = x0\n",
    "  \n",
    "  # Estimate average acceptance probability\n",
    "  \n",
    "  # Compute MCMC estimator statistics\n",
    "  mcmc_stats = compute_mcmc_stats([ s[D] for s in mcmc_samples])\n",
    "  \n",
    "  accept_prob_means[D - 1] = mcmc_stats[0]\n",
    "  accept_prob_ses[D - 1] = mcmc_stats[1]\n",
    "  \n",
    "  # Estimate effective sample size\n",
    "  eff_sample_sizes = [ compute_mcmc_stats([ s[d] for s in mcmc_samples])[3] \\\n",
    "                       for d in range(D) ]\n",
    "  ave_eff_sample_sizes[D - 1] = sum(eff_sample_sizes) / D\n",
    "\n",
    "f, axarr = plot.subplots(1, 2)\n",
    "    \n",
    "axarr[0].set_title(\"\")\n",
    "axarr[0].fill_between(plot_Ds, \n",
    "                      [ accept_prob_means[idx] - 2 * accept_prob_ses[idx] for idx in idxs ],\n",
    "                      [ accept_prob_means[idx] + 2 * accept_prob_ses[idx] for idx in idxs ],\n",
    "                      facecolor=dark, color=dark)\n",
    "axarr[0].plot(plot_Ds, [ accept_prob_means[idx] for idx in idxs], color=dark_highlight)\n",
    "axarr[0].set_xlim([Ds[0], Ds[-1]])\n",
    "axarr[0].set_xlabel(\"Dimension\")\n",
    "axarr[0].set_ylim([0, 1])\n",
    "axarr[0].set_ylabel(\"Average Acceptance Probability\")\n",
    "\n",
    "axarr[1].set_title(\"\")\n",
    "axarr[1].plot(plot_Ds, [ ave_eff_sample_sizes[idx] / N for idx in idxs],\n",
    "              color=dark_highlight)\n",
    "axarr[1].set_xlim([Ds[0], Ds[-1]])\n",
    "axarr[1].set_xlabel(\"Dimension\")\n",
    "axarr[1].set_ylim([0, 0.3])\n",
    "axarr[1].set_ylabel(\"Average Effective Sample Size Per Iteration\")\n",
    "\n",
    "plot.show()"
   ]
  }
 ],
 "metadata": {
  "kernelspec": {
   "display_name": "py36",
   "language": "python",
   "name": "py36"
  },
  "language_info": {
   "codemirror_mode": {
    "name": "ipython",
    "version": 3
   },
   "file_extension": ".py",
   "mimetype": "text/x-python",
   "name": "python",
   "nbconvert_exporter": "python",
   "pygments_lexer": "ipython3",
   "version": "3.6.7"
  }
 },
 "nbformat": 4,
 "nbformat_minor": 2
}
